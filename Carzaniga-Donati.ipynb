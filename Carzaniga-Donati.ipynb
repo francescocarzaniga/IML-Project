{
 "cells": [
  {
   "cell_type": "markdown",
   "metadata": {},
   "source": [
    "# Project - Introduction to machine learning\n",
    "### Francesco Carzaniga and Sonia Donati\n",
    "\n",
    "\n",
    "\n",
    "\n",
    "\n",
    "\n"
   ]
  },
  {
   "cell_type": "markdown",
   "metadata": {},
   "source": [
    "\n",
    "\n",
    "\n",
    "\n",
    "The purpose of the project is to find the best machine learning algorithm for a particular dataset. "
   ]
  },
  {
   "cell_type": "markdown",
   "metadata": {},
   "source": [
    "## 1. Problem description\n"
   ]
  },
  {
   "cell_type": "markdown",
   "metadata": {},
   "source": [
    "The data 'dataset32.csv' is compiled from car accidents, classified according to their severity.\n",
    "* Number of samples: 499\n",
    "* Number of features: 13\n",
    "\n",
    "The feature are as follows:\n",
    "\n",
    "0. '**time_to_aid**': time before receiving first aid (in minutes)\n",
    "1. '**time_from_road_check**': time from last road maintenance (in years)\n",
    "2. '**avg_speed**': average speed at impact\n",
    "3. '**road_state**': average number of injured people per vehicle\n",
    "4. '**ppl_vehicle**': average number of people per vehicle\n",
    "5. '**avg_time_in_care**': average time spent in hospital care per injured person\n",
    "6. '**num_rescue**': number of rescuers on the scene\n",
    "7. '**time_to_hospital**': time to reach the hospital (in minutes)\n",
    "8. '**age_vehicles**': average age of vehicles involved\n",
    "9. '**time_from_vehicle_check**': time from last vehicle safety check\n",
    "10. '**road_type**': road network type (local, regional, national)\n",
    "\n",
    "The goal is to predict the severity of an accident. \n",
    "\n",
    "Remarks:\n",
    "* '**class**': accident severity (0 = no injuries, 1 = non-fatal, 2 = fatal injuries) is not a feature\n",
    "* '**vehicle_number**': vehicle registration number is not useful"
   ]
  },
  {
   "cell_type": "markdown",
   "metadata": {},
   "source": [
    "## 2. Data preprocessing"
   ]
  },
  {
   "cell_type": "markdown",
   "metadata": {},
   "source": [
    "First of all we have to import the necessary packages."
   ]
  },
  {
   "cell_type": "code",
   "execution_count": 1,
   "metadata": {},
   "outputs": [],
   "source": [
    "import numpy as np\n",
    "import pandas as pd\n",
    "import matplotlib.pyplot as plt\n",
    "from joblib import Parallel, delayed\n",
    "from sklearn.base import BaseEstimator, ClassifierMixin, MetaEstimatorMixin\n",
    "\n",
    "from sklearn import preprocessing\n",
    "from sklearn.impute import SimpleImputer\n",
    "from sklearn import linear_model\n",
    "from sklearn.svm import LinearSVC\n",
    "from sklearn.model_selection import cross_validate\n",
    "from sklearn import svm\n",
    "from sklearn.neighbors import KNeighborsClassifier\n",
    "from sklearn.neural_network import MLPClassifier\n",
    "from sklearn.pipeline import Pipeline"
   ]
  },
  {
   "cell_type": "markdown",
   "metadata": {},
   "source": [
    "Then, we obvious upload the dataset using pandas."
   ]
  },
  {
   "cell_type": "code",
   "execution_count": 2,
   "metadata": {},
   "outputs": [],
   "source": [
    "dataset = pd.read_csv('dataset32.csv', delimiter = \";\").values"
   ]
  },
  {
   "cell_type": "markdown",
   "metadata": {},
   "source": [
    "In this way, we obtain our dataset as an array. The last column contain the classes, i.e 0,1,2."
   ]
  },
  {
   "cell_type": "code",
   "execution_count": 3,
   "metadata": {},
   "outputs": [],
   "source": [
    "y = dataset[:,13]"
   ]
  },
  {
   "cell_type": "markdown",
   "metadata": {},
   "source": [
    "Moreover, is important to notice that the three classes are good balanced, as it is shown below"
   ]
  },
  {
   "cell_type": "code",
   "execution_count": 4,
   "metadata": {},
   "outputs": [
    {
     "name": "stdout",
     "output_type": "stream",
     "text": [
      "[0.33867735470941884, 0.34468937875751504, 0.3166332665330661]\n"
     ]
    }
   ],
   "source": [
    "unique, counts = np.unique(y, return_counts=True)\n",
    "print([counts[i]/np.sum(counts) for i in range(len(counts))])"
   ]
  },
  {
   "cell_type": "markdown",
   "metadata": {},
   "source": [
    "We reshape *y*:"
   ]
  },
  {
   "cell_type": "code",
   "execution_count": 5,
   "metadata": {},
   "outputs": [],
   "source": [
    "y = y.astype(np.float).reshape((dataset.shape[0],1))"
   ]
  },
  {
   "cell_type": "markdown",
   "metadata": {},
   "source": [
    "Finally, we can select the features. In this case, we omit the last and second-last column of the dataset. "
   ]
  },
  {
   "cell_type": "code",
   "execution_count": 6,
   "metadata": {},
   "outputs": [
    {
     "name": "stdout",
     "output_type": "stream",
     "text": [
      "(499, 12)\n"
     ]
    }
   ],
   "source": [
    "dataset = dataset[:,[0,1,2,3,4,5,6,7,8,9,10,12]]\n",
    "print(dataset.shape)"
   ]
  },
  {
   "cell_type": "markdown",
   "metadata": {},
   "source": [
    "Unfortunately, the dataset presents some strings and empty spaces. In what follows, we transform string to integer. After, can we fill up the voids with the mean of the other values (in the same column)? NO! We have to split first and the do imputation!"
   ]
  },
  {
   "cell_type": "code",
   "execution_count": 7,
   "metadata": {},
   "outputs": [
    {
     "name": "stdout",
     "output_type": "stream",
     "text": [
      "Feature 6 has 4 NaN value(s)\n",
      "Feature 7 has 6 NaN value(s)\n"
     ]
    }
   ],
   "source": [
    "le = preprocessing.LabelEncoder()\n",
    "dataset[:,3] = le.fit_transform(dataset[:,3])  # 'road_state': average = 0, bad = 1, good = 2\n",
    "dataset[:,11] = le.fit_transform(dataset[:,11])  # 'road_type': local = 0 , national = 1, regional = 2\n",
    "\n",
    "dataset = np.asarray(dataset, dtype=np.float64)  # all values of the dataset are float now\n",
    "\n",
    "#dataset has 10 NaN values, where?\n",
    "for i in range(12):\n",
    "    if any(np.isnan(dataset[:,i])):\n",
    "       print(\"Feature\", i, \"has\", sum(np.isnan(dataset[:,i])), \"NaN value(s)\")\n",
    "\n",
    "#DA CANCELLARE\n",
    "#substitute the missing values by the mean value of the feature\n",
    "#imp_mean = SimpleImputer(missing_values=np.nan, strategy='mean')\n",
    "#dataset = imp_mean.fit_transform(dataset)"
   ]
  },
  {
   "cell_type": "markdown",
   "metadata": {},
   "source": [
    "As usual, we make shuffle and split over the now-ready dataset to obtain train sets and test sets."
   ]
  },
  {
   "cell_type": "code",
   "execution_count": 8,
   "metadata": {},
   "outputs": [],
   "source": [
    "#shuffling\n",
    "def shuffle(dataset, y):\n",
    "    z = np.hstack((dataset, y))\n",
    "    np.random.shuffle(z)\n",
    "    return np.hsplit(z, [dataset.shape[1]])\n",
    "\n",
    "dataset, y = shuffle(dataset, y)\n",
    "\n",
    "# DA FARE DOPO IMPUTATION!\n",
    "#splitting\n",
    "#def splitting(x, y, test_size=0.2):\n",
    "#    n = x.shape[0]\n",
    "#    train_size = int(n * (1 - test_size))\n",
    "#    return x[:train_size, ], x[train_size:, ], y[:train_size, ], y[train_size:, ]\n",
    "\n",
    "#x_train, x_test, y_train, y_test = splitting(dataset, y)"
   ]
  },
  {
   "cell_type": "markdown",
   "metadata": {},
   "source": [
    "## 3. Model implementations"
   ]
  },
  {
   "cell_type": "markdown",
   "metadata": {},
   "source": [
    "In this chapter we will implement all the methods for the project. We have a multiclass problem, but we want it to be binary. For do that, we build a class that transform the multiclass problem to 1vsAll problem."
   ]
  },
  {
   "cell_type": "code",
   "execution_count": 9,
   "metadata": {},
   "outputs": [],
   "source": [
    "class OneVsOne(BaseEstimator, ClassifierMixin, MetaEstimatorMixin):\n",
    "    def __init__(self, model=None, n_jobs=-1, **parameters):\n",
    "        self.model = model\n",
    "        self.n_jobs = n_jobs\n",
    "        self.parameters = parameters\n",
    "        self.classes = None\n",
    "        self.model_list = None\n",
    "\n",
    "    def get_params(self, deep=True):\n",
    "        return {**{\"model\": self.model}, **{\"n_jobs\": self.n_jobs}, **self.parameters}\n",
    "\n",
    "    def __fit_ovo_estimator(self, X, y, class_one, class_two):\n",
    "        class_selection = np.logical_or(y == class_one, y == class_two)\n",
    "        current_model = self.model().set_params(**self.parameters)\n",
    "        y = y[class_selection]\n",
    "        y_binarized = np.zeros_like(y)\n",
    "        y_binarized[y == class_one] = 0\n",
    "        y_binarized[y == class_two] = 1\n",
    "        X = X[class_selection]\n",
    "        current_model.fit(X, y_binarized)\n",
    "        return current_model, class_one, class_two\n",
    "\n",
    "    def fit(self, X, y):\n",
    "        self.classes = np.unique(y)\n",
    "        models = Parallel(n_jobs=self.n_jobs)(delayed(self.__fit_ovo_estimator)\n",
    "                                              (X, y, self.classes[i], self.classes[j]) for i in range(len(self.classes))\n",
    "                                              for j in range(i + 1, len(self.classes)))\n",
    "        self.model_list = list(zip(*models))\n",
    "        return\n",
    "\n",
    "    @staticmethod\n",
    "    def __predict_ovo_estimator(X, model):\n",
    "        return model.predict(X)\n",
    "\n",
    "    @staticmethod\n",
    "    def __predict_proba_ovo_estimator(X, model):\n",
    "        try:\n",
    "            confidence = np.max(model.predict_proba(X), axis=1)\n",
    "        except (AttributeError, NotImplementedError):\n",
    "            confidence = model.decision_function(X)\n",
    "        return confidence\n",
    "\n",
    "    def predict(self, X):\n",
    "        models = self.model_list[0]\n",
    "        predictions = np.stack(Parallel(n_jobs=self.n_jobs)(delayed(self.__predict_ovo_estimator)(X, models[i])\n",
    "                                                            for i in range(len(models)))).astype(dtype=np.int32).T\n",
    "        confidences = np.stack(Parallel(n_jobs=self.n_jobs)(delayed(self.__predict_proba_ovo_estimator)(X, models[i])\n",
    "                                                            for i in range(len(models)))).T\n",
    "        votes = np.zeros((X.shape[0], self.classes.size))\n",
    "        total_confidences = np.zeros_like(votes)\n",
    "        for model in range(len(models)):\n",
    "            class_one_m = self.model_list[1][model]\n",
    "            class_two_m = self.model_list[2][model]\n",
    "            votes[predictions[:, model] == 0, np.argwhere(self.classes == class_one_m)[0]] += 1\n",
    "            votes[predictions[:, model] == 1, np.argwhere(self.classes == class_two_m)[0]] += 1\n",
    "            total_confidences[predictions[:, model] == 0, np.argwhere(self.classes == class_one_m)[0]] += \\\n",
    "                confidences[predictions[:, model] == 0, model]\n",
    "            total_confidences[predictions[:, model] == 1, np.argwhere(self.classes == class_two_m)[0]] += \\\n",
    "                confidences[predictions[:, model] == 1, model]\n",
    "        transformed_confidences = (total_confidences /\n",
    "                                   (3 * (np.abs(total_confidences) + 1)))\n",
    "        winners = self.classes[np.argmax(votes+transformed_confidences, axis=1)]\n",
    "        return winners"
   ]
  },
  {
   "cell_type": "markdown",
   "metadata": {},
   "source": [
    "## 4. Validation"
   ]
  },
  {
   "cell_type": "markdown",
   "metadata": {},
   "source": [
    "Afterwards, we do cross-validation for all the models."
   ]
  },
  {
   "cell_type": "code",
   "execution_count": 10,
   "metadata": {},
   "outputs": [
    {
     "data": {
      "text/html": [
       "<div>\n",
       "<style scoped>\n",
       "    .dataframe tbody tr th:only-of-type {\n",
       "        vertical-align: middle;\n",
       "    }\n",
       "\n",
       "    .dataframe tbody tr th {\n",
       "        vertical-align: top;\n",
       "    }\n",
       "\n",
       "    .dataframe thead th {\n",
       "        text-align: right;\n",
       "    }\n",
       "</style>\n",
       "<table border=\"1\" class=\"dataframe\">\n",
       "  <thead>\n",
       "    <tr style=\"text-align: right;\">\n",
       "      <th></th>\n",
       "      <th>fit_time</th>\n",
       "      <th>score_time</th>\n",
       "      <th>test_score</th>\n",
       "    </tr>\n",
       "  </thead>\n",
       "  <tbody>\n",
       "    <tr>\n",
       "      <th>0</th>\n",
       "      <td>2.326981</td>\n",
       "      <td>4.533875</td>\n",
       "      <td>0.560000</td>\n",
       "    </tr>\n",
       "    <tr>\n",
       "      <th>1</th>\n",
       "      <td>2.240013</td>\n",
       "      <td>4.451095</td>\n",
       "      <td>0.650000</td>\n",
       "    </tr>\n",
       "    <tr>\n",
       "      <th>2</th>\n",
       "      <td>2.211087</td>\n",
       "      <td>4.509725</td>\n",
       "      <td>0.630000</td>\n",
       "    </tr>\n",
       "    <tr>\n",
       "      <th>3</th>\n",
       "      <td>2.281853</td>\n",
       "      <td>4.429887</td>\n",
       "      <td>0.620000</td>\n",
       "    </tr>\n",
       "    <tr>\n",
       "      <th>4</th>\n",
       "      <td>2.218066</td>\n",
       "      <td>4.528541</td>\n",
       "      <td>0.707071</td>\n",
       "    </tr>\n",
       "  </tbody>\n",
       "</table>\n",
       "</div>"
      ],
      "text/plain": [
       "   fit_time  score_time  test_score\n",
       "0  2.326981    4.533875    0.560000\n",
       "1  2.240013    4.451095    0.650000\n",
       "2  2.211087    4.509725    0.630000\n",
       "3  2.281853    4.429887    0.620000\n",
       "4  2.218066    4.528541    0.707071"
      ]
     },
     "metadata": {},
     "output_type": "display_data"
    },
    {
     "name": "stdout",
     "output_type": "stream",
     "text": [
      "This is the mean of the test_score: 0.6334141414141414\n"
     ]
    }
   ],
   "source": [
    "# SVM (Default: Kernel \"rbf\")\n",
    "model_SVM = svm.SVC\n",
    "estimator = Pipeline([(\"imputer\", SimpleImputer(missing_values= np.nan,strategy=\"median\")),(\"Transform\",OneVsOne(model_SVM))])\n",
    "val_SVM = cross_validate(estimator, dataset, y.ravel(), cv=5)\n",
    "\n",
    "display(pd.DataFrame(val_SVM))\n",
    "\n",
    "mean_val_SVM = val_SVM[\"test_score\"].mean()\n",
    "print(\"This is the mean of the test_score:\", mean_val_SVM)"
   ]
  },
  {
   "cell_type": "code",
   "execution_count": 11,
   "metadata": {},
   "outputs": [
    {
     "data": {
      "text/html": [
       "<div>\n",
       "<style scoped>\n",
       "    .dataframe tbody tr th:only-of-type {\n",
       "        vertical-align: middle;\n",
       "    }\n",
       "\n",
       "    .dataframe tbody tr th {\n",
       "        vertical-align: top;\n",
       "    }\n",
       "\n",
       "    .dataframe thead th {\n",
       "        text-align: right;\n",
       "    }\n",
       "</style>\n",
       "<table border=\"1\" class=\"dataframe\">\n",
       "  <thead>\n",
       "    <tr style=\"text-align: right;\">\n",
       "      <th></th>\n",
       "      <th>fit_time</th>\n",
       "      <th>score_time</th>\n",
       "      <th>test_score</th>\n",
       "    </tr>\n",
       "  </thead>\n",
       "  <tbody>\n",
       "    <tr>\n",
       "      <th>0</th>\n",
       "      <td>2.315416</td>\n",
       "      <td>4.407249</td>\n",
       "      <td>0.690000</td>\n",
       "    </tr>\n",
       "    <tr>\n",
       "      <th>1</th>\n",
       "      <td>2.209062</td>\n",
       "      <td>4.425925</td>\n",
       "      <td>0.760000</td>\n",
       "    </tr>\n",
       "    <tr>\n",
       "      <th>2</th>\n",
       "      <td>2.211086</td>\n",
       "      <td>4.429462</td>\n",
       "      <td>0.740000</td>\n",
       "    </tr>\n",
       "    <tr>\n",
       "      <th>3</th>\n",
       "      <td>2.232069</td>\n",
       "      <td>4.726300</td>\n",
       "      <td>0.740000</td>\n",
       "    </tr>\n",
       "    <tr>\n",
       "      <th>4</th>\n",
       "      <td>2.239044</td>\n",
       "      <td>4.436809</td>\n",
       "      <td>0.808081</td>\n",
       "    </tr>\n",
       "  </tbody>\n",
       "</table>\n",
       "</div>"
      ],
      "text/plain": [
       "   fit_time  score_time  test_score\n",
       "0  2.315416    4.407249    0.690000\n",
       "1  2.209062    4.425925    0.760000\n",
       "2  2.211086    4.429462    0.740000\n",
       "3  2.232069    4.726300    0.740000\n",
       "4  2.239044    4.436809    0.808081"
      ]
     },
     "metadata": {},
     "output_type": "display_data"
    },
    {
     "name": "stdout",
     "output_type": "stream",
     "text": [
      "This is the mean of the test_score: 0.7476161616161615\n"
     ]
    }
   ],
   "source": [
    "# Polynomially kernelized SVM\n",
    "model_poly = svm.SVC\n",
    "imputer = SimpleImputer(missing_values= np.nan,strategy=\"median\")\n",
    "fitter = OneVsOne(model_poly, kernel = 'poly')\n",
    "estimator = Pipeline([(\"imputer\", imputer),(\"onevsonefitter\", fitter)])\n",
    "val_poly = cross_validate(estimator, dataset, y.ravel(), cv=5)\n",
    "\n",
    "display(pd.DataFrame(val_poly))\n",
    "\n",
    "mean_val_poly = val_poly[\"test_score\"].mean()\n",
    "print(\"This is the mean of the test_score:\", mean_val_poly)"
   ]
  },
  {
   "cell_type": "code",
   "execution_count": 12,
   "metadata": {},
   "outputs": [
    {
     "data": {
      "text/html": [
       "<div>\n",
       "<style scoped>\n",
       "    .dataframe tbody tr th:only-of-type {\n",
       "        vertical-align: middle;\n",
       "    }\n",
       "\n",
       "    .dataframe tbody tr th {\n",
       "        vertical-align: top;\n",
       "    }\n",
       "\n",
       "    .dataframe thead th {\n",
       "        text-align: right;\n",
       "    }\n",
       "</style>\n",
       "<table border=\"1\" class=\"dataframe\">\n",
       "  <thead>\n",
       "    <tr style=\"text-align: right;\">\n",
       "      <th></th>\n",
       "      <th>fit_time</th>\n",
       "      <th>score_time</th>\n",
       "      <th>test_score</th>\n",
       "    </tr>\n",
       "  </thead>\n",
       "  <tbody>\n",
       "    <tr>\n",
       "      <th>0</th>\n",
       "      <td>2.498288</td>\n",
       "      <td>4.397242</td>\n",
       "      <td>0.850000</td>\n",
       "    </tr>\n",
       "    <tr>\n",
       "      <th>1</th>\n",
       "      <td>2.265939</td>\n",
       "      <td>4.525898</td>\n",
       "      <td>0.820000</td>\n",
       "    </tr>\n",
       "    <tr>\n",
       "      <th>2</th>\n",
       "      <td>2.426589</td>\n",
       "      <td>4.453091</td>\n",
       "      <td>0.830000</td>\n",
       "    </tr>\n",
       "    <tr>\n",
       "      <th>3</th>\n",
       "      <td>2.288880</td>\n",
       "      <td>4.427163</td>\n",
       "      <td>0.930000</td>\n",
       "    </tr>\n",
       "    <tr>\n",
       "      <th>4</th>\n",
       "      <td>2.240008</td>\n",
       "      <td>4.418676</td>\n",
       "      <td>0.878788</td>\n",
       "    </tr>\n",
       "  </tbody>\n",
       "</table>\n",
       "</div>"
      ],
      "text/plain": [
       "   fit_time  score_time  test_score\n",
       "0  2.498288    4.397242    0.850000\n",
       "1  2.265939    4.525898    0.820000\n",
       "2  2.426589    4.453091    0.830000\n",
       "3  2.288880    4.427163    0.930000\n",
       "4  2.240008    4.418676    0.878788"
      ]
     },
     "metadata": {},
     "output_type": "display_data"
    },
    {
     "name": "stdout",
     "output_type": "stream",
     "text": [
      "This is the mean of the test_score: 0.8617575757575757\n"
     ]
    }
   ],
   "source": [
    "# Linear kernelized SVM\n",
    "model_linear = svm.SVC\n",
    "estimator = Pipeline([(\"imputer\", SimpleImputer(missing_values= np.nan,strategy=\"median\")),(\"Transform\",OneVsOne(model_linear, kernel = \"linear\"))])\n",
    "val_linear = cross_validate(estimator, dataset, y.ravel(), cv=5)\n",
    "\n",
    "display(pd.DataFrame(val_linear))\n",
    "\n",
    "mean_val_linear = val_linear[\"test_score\"].mean()\n",
    "print(\"This is the mean of the test_score:\", mean_val_linear)"
   ]
  },
  {
   "cell_type": "code",
   "execution_count": 13,
   "metadata": {},
   "outputs": [
    {
     "data": {
      "text/html": [
       "<div>\n",
       "<style scoped>\n",
       "    .dataframe tbody tr th:only-of-type {\n",
       "        vertical-align: middle;\n",
       "    }\n",
       "\n",
       "    .dataframe tbody tr th {\n",
       "        vertical-align: top;\n",
       "    }\n",
       "\n",
       "    .dataframe thead th {\n",
       "        text-align: right;\n",
       "    }\n",
       "</style>\n",
       "<table border=\"1\" class=\"dataframe\">\n",
       "  <thead>\n",
       "    <tr style=\"text-align: right;\">\n",
       "      <th></th>\n",
       "      <th>fit_time</th>\n",
       "      <th>score_time</th>\n",
       "      <th>test_score</th>\n",
       "    </tr>\n",
       "  </thead>\n",
       "  <tbody>\n",
       "    <tr>\n",
       "      <th>0</th>\n",
       "      <td>2.369661</td>\n",
       "      <td>4.479070</td>\n",
       "      <td>0.830000</td>\n",
       "    </tr>\n",
       "    <tr>\n",
       "      <th>1</th>\n",
       "      <td>2.244962</td>\n",
       "      <td>4.540857</td>\n",
       "      <td>0.830000</td>\n",
       "    </tr>\n",
       "    <tr>\n",
       "      <th>2</th>\n",
       "      <td>2.303987</td>\n",
       "      <td>4.506757</td>\n",
       "      <td>0.740000</td>\n",
       "    </tr>\n",
       "    <tr>\n",
       "      <th>3</th>\n",
       "      <td>2.266937</td>\n",
       "      <td>4.502961</td>\n",
       "      <td>0.850000</td>\n",
       "    </tr>\n",
       "    <tr>\n",
       "      <th>4</th>\n",
       "      <td>2.258497</td>\n",
       "      <td>4.496978</td>\n",
       "      <td>0.787879</td>\n",
       "    </tr>\n",
       "  </tbody>\n",
       "</table>\n",
       "</div>"
      ],
      "text/plain": [
       "   fit_time  score_time  test_score\n",
       "0  2.369661    4.479070    0.830000\n",
       "1  2.244962    4.540857    0.830000\n",
       "2  2.303987    4.506757    0.740000\n",
       "3  2.266937    4.502961    0.850000\n",
       "4  2.258497    4.496978    0.787879"
      ]
     },
     "metadata": {},
     "output_type": "display_data"
    },
    {
     "name": "stdout",
     "output_type": "stream",
     "text": [
      "This is the mean of the test_score: 0.8075757575757576\n"
     ]
    }
   ],
   "source": [
    "# K-nearest neighbour algorithm\n",
    "model_K = KNeighborsClassifier\n",
    "estimator = Pipeline([(\"imputer\", SimpleImputer(missing_values= np.nan,strategy=\"median\")),(\"Transform\",OneVsOne(model_K,n_neighbors=5))])\n",
    "val_K = cross_validate(estimator, dataset, y.ravel(), cv=5)\n",
    "\n",
    "display(pd.DataFrame(val_K))\n",
    "\n",
    "mean_val_K = val_K[\"test_score\"].mean()\n",
    "print(\"This is the mean of the test_score:\", mean_val_K)"
   ]
  },
  {
   "cell_type": "code",
   "execution_count": 14,
   "metadata": {},
   "outputs": [
    {
     "data": {
      "text/html": [
       "<div>\n",
       "<style scoped>\n",
       "    .dataframe tbody tr th:only-of-type {\n",
       "        vertical-align: middle;\n",
       "    }\n",
       "\n",
       "    .dataframe tbody tr th {\n",
       "        vertical-align: top;\n",
       "    }\n",
       "\n",
       "    .dataframe thead th {\n",
       "        text-align: right;\n",
       "    }\n",
       "</style>\n",
       "<table border=\"1\" class=\"dataframe\">\n",
       "  <thead>\n",
       "    <tr style=\"text-align: right;\">\n",
       "      <th></th>\n",
       "      <th>fit_time</th>\n",
       "      <th>score_time</th>\n",
       "      <th>test_score</th>\n",
       "    </tr>\n",
       "  </thead>\n",
       "  <tbody>\n",
       "    <tr>\n",
       "      <th>0</th>\n",
       "      <td>2.276912</td>\n",
       "      <td>4.776227</td>\n",
       "      <td>0.310000</td>\n",
       "    </tr>\n",
       "    <tr>\n",
       "      <th>1</th>\n",
       "      <td>2.517268</td>\n",
       "      <td>5.110660</td>\n",
       "      <td>0.510000</td>\n",
       "    </tr>\n",
       "    <tr>\n",
       "      <th>2</th>\n",
       "      <td>2.283554</td>\n",
       "      <td>4.465679</td>\n",
       "      <td>0.320000</td>\n",
       "    </tr>\n",
       "    <tr>\n",
       "      <th>3</th>\n",
       "      <td>2.259954</td>\n",
       "      <td>4.374416</td>\n",
       "      <td>0.460000</td>\n",
       "    </tr>\n",
       "    <tr>\n",
       "      <th>4</th>\n",
       "      <td>2.240011</td>\n",
       "      <td>4.379553</td>\n",
       "      <td>0.454545</td>\n",
       "    </tr>\n",
       "  </tbody>\n",
       "</table>\n",
       "</div>"
      ],
      "text/plain": [
       "   fit_time  score_time  test_score\n",
       "0  2.276912    4.776227    0.310000\n",
       "1  2.517268    5.110660    0.510000\n",
       "2  2.283554    4.465679    0.320000\n",
       "3  2.259954    4.374416    0.460000\n",
       "4  2.240011    4.379553    0.454545"
      ]
     },
     "metadata": {},
     "output_type": "display_data"
    },
    {
     "name": "stdout",
     "output_type": "stream",
     "text": [
      "This is the mean of the test_score: 0.41090909090909095\n"
     ]
    }
   ],
   "source": [
    "# Artificial neural network\n",
    "model_ANN = MLPClassifier\n",
    "estimator = Pipeline([(\"imputer\", SimpleImputer(missing_values= np.nan,strategy=\"median\")),(\"Transform\",OneVsOne(model_ANN,hidden_layer_sizes=(16,), activation='tanh', solver='adam', learning_rate='adaptive', early_stopping = True))])\n",
    "val_ANN = cross_validate(estimator, dataset, y.ravel(), cv=5)\n",
    "\n",
    "display(pd.DataFrame(val_ANN))\n",
    "\n",
    "mean_val_ANN = val_ANN[\"test_score\"].mean()\n",
    "print(\"This is the mean of the test_score:\", mean_val_ANN)"
   ]
  },
  {
   "cell_type": "code",
   "execution_count": 15,
   "metadata": {},
   "outputs": [],
   "source": [
    "# Random forest"
   ]
  },
  {
   "cell_type": "markdown",
   "metadata": {},
   "source": [
    "## 5. Testing"
   ]
  },
  {
   "cell_type": "code",
   "execution_count": null,
   "metadata": {},
   "outputs": [],
   "source": []
  },
  {
   "cell_type": "markdown",
   "metadata": {},
   "source": [
    "## 6. Conclusion"
   ]
  },
  {
   "cell_type": "markdown",
   "metadata": {},
   "source": [
    "By the chapters above, we can conclude that the best model for our dataset is: Random forest, ..."
   ]
  }
 ],
 "metadata": {
  "kernelspec": {
   "display_name": "Python 3",
   "language": "python",
   "name": "python3"
  },
  "language_info": {
   "codemirror_mode": {
    "name": "ipython",
    "version": 3
   },
   "file_extension": ".py",
   "mimetype": "text/x-python",
   "name": "python",
   "nbconvert_exporter": "python",
   "pygments_lexer": "ipython3",
   "version": "3.7.4"
  }
 },
 "nbformat": 4,
 "nbformat_minor": 2
}
